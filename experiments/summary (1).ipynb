{
 "cells": [
  {
   "cell_type": "code",
   "execution_count": 1,
   "id": "9574b646",
   "metadata": {},
   "outputs": [],
   "source": [
    "import pandas as pd\n",
    "import ast\n",
    "import matplotlib.pyplot as plt\n"
   ]
  },
  {
   "cell_type": "code",
   "execution_count": 2,
   "id": "aec6febe",
   "metadata": {},
   "outputs": [],
   "source": [
    "loc = r'C:\\Users\\ASUS\\Desktop\\Naveen\\SFU\\Sem_2\\733\\Project\\concatenated_data.csv'"
   ]
  },
  {
   "cell_type": "code",
   "execution_count": 3,
   "id": "838ade91",
   "metadata": {
    "scrolled": true
   },
   "outputs": [
    {
     "data": {
      "text/html": [
       "<div>\n",
       "<style scoped>\n",
       "    .dataframe tbody tr th:only-of-type {\n",
       "        vertical-align: middle;\n",
       "    }\n",
       "\n",
       "    .dataframe tbody tr th {\n",
       "        vertical-align: top;\n",
       "    }\n",
       "\n",
       "    .dataframe thead th {\n",
       "        text-align: right;\n",
       "    }\n",
       "</style>\n",
       "<table border=\"1\" class=\"dataframe\">\n",
       "  <thead>\n",
       "    <tr style=\"text-align: right;\">\n",
       "      <th></th>\n",
       "      <th>Match Date</th>\n",
       "      <th>Event Type</th>\n",
       "      <th>Event Name</th>\n",
       "      <th>Game Scores</th>\n",
       "      <th>Player A1</th>\n",
       "      <th>Player A1 Gender</th>\n",
       "      <th>Player A2</th>\n",
       "      <th>Player A2 Gender</th>\n",
       "      <th>Player B1</th>\n",
       "      <th>Player B1 Gender</th>\n",
       "      <th>Player B2</th>\n",
       "      <th>Player B2 Gender</th>\n",
       "    </tr>\n",
       "  </thead>\n",
       "  <tbody>\n",
       "    <tr>\n",
       "      <th>0</th>\n",
       "      <td>2019-03-31</td>\n",
       "      <td>Club Match</td>\n",
       "      <td>Vancouver Racquets Club</td>\n",
       "      <td>['3-0']</td>\n",
       "      <td>Brian Covernton</td>\n",
       "      <td>male</td>\n",
       "      <td>Bruce Macfarlane</td>\n",
       "      <td>male</td>\n",
       "      <td>Adam Jinks</td>\n",
       "      <td>male</td>\n",
       "      <td>Glen McNeil</td>\n",
       "      <td>male</td>\n",
       "    </tr>\n",
       "    <tr>\n",
       "      <th>1</th>\n",
       "      <td>2019-03-29</td>\n",
       "      <td>Club Match</td>\n",
       "      <td>Vancouver Racquets Club</td>\n",
       "      <td>['3-0']</td>\n",
       "      <td>Glen McNeil</td>\n",
       "      <td>male</td>\n",
       "      <td>Rick Ng</td>\n",
       "      <td>male</td>\n",
       "      <td>Brian Covernton</td>\n",
       "      <td>male</td>\n",
       "      <td>Jeff Ward</td>\n",
       "      <td>male</td>\n",
       "    </tr>\n",
       "    <tr>\n",
       "      <th>2</th>\n",
       "      <td>2019-03-28</td>\n",
       "      <td>League</td>\n",
       "      <td>Vancouver Ladies Doubles League</td>\n",
       "      <td>['1-3']</td>\n",
       "      <td>Jennifer Levey</td>\n",
       "      <td>female</td>\n",
       "      <td>Angel Wong</td>\n",
       "      <td>female</td>\n",
       "      <td>Helen Kim</td>\n",
       "      <td>female</td>\n",
       "      <td>Andrea Guerrero</td>\n",
       "      <td>female</td>\n",
       "    </tr>\n",
       "    <tr>\n",
       "      <th>3</th>\n",
       "      <td>2019-03-28</td>\n",
       "      <td>League</td>\n",
       "      <td>Vancouver Ladies Doubles League</td>\n",
       "      <td>['3-1']</td>\n",
       "      <td>Annette Johanson</td>\n",
       "      <td>female</td>\n",
       "      <td>Olivia Maxwell</td>\n",
       "      <td>female</td>\n",
       "      <td>Ashley Ramsden-Wood</td>\n",
       "      <td>female</td>\n",
       "      <td>Shelley Neil</td>\n",
       "      <td>female</td>\n",
       "    </tr>\n",
       "    <tr>\n",
       "      <th>4</th>\n",
       "      <td>2019-03-28</td>\n",
       "      <td>League</td>\n",
       "      <td>Vancouver Ladies Doubles League</td>\n",
       "      <td>['3-0']</td>\n",
       "      <td>Melodie Flook</td>\n",
       "      <td>female</td>\n",
       "      <td>Jillian Anderson</td>\n",
       "      <td>female</td>\n",
       "      <td>Ana Laureano</td>\n",
       "      <td>female</td>\n",
       "      <td>Soraya Kurji</td>\n",
       "      <td>female</td>\n",
       "    </tr>\n",
       "    <tr>\n",
       "      <th>...</th>\n",
       "      <td>...</td>\n",
       "      <td>...</td>\n",
       "      <td>...</td>\n",
       "      <td>...</td>\n",
       "      <td>...</td>\n",
       "      <td>...</td>\n",
       "      <td>...</td>\n",
       "      <td>...</td>\n",
       "      <td>...</td>\n",
       "      <td>...</td>\n",
       "      <td>...</td>\n",
       "      <td>...</td>\n",
       "    </tr>\n",
       "    <tr>\n",
       "      <th>1622</th>\n",
       "      <td>2023-06-22</td>\n",
       "      <td>Tournament</td>\n",
       "      <td>Evergreen Summer Doubles Squash Tournament</td>\n",
       "      <td>15-12,12-15,14-15,15-14,15-10</td>\n",
       "      <td>Guillermo Cortes-Ortiz</td>\n",
       "      <td>men</td>\n",
       "      <td>Eduardo Flores</td>\n",
       "      <td>men</td>\n",
       "      <td>Patrick Frost</td>\n",
       "      <td>men</td>\n",
       "      <td>Farzin Habibpour</td>\n",
       "      <td>men</td>\n",
       "    </tr>\n",
       "    <tr>\n",
       "      <th>1623</th>\n",
       "      <td>2023-06-22</td>\n",
       "      <td>Tournament</td>\n",
       "      <td>Evergreen Summer Doubles Squash Tournament</td>\n",
       "      <td>15-9,15-7,15-10</td>\n",
       "      <td>Mike Lee</td>\n",
       "      <td>men</td>\n",
       "      <td>Mike Neilson</td>\n",
       "      <td>men</td>\n",
       "      <td>Duncan Genge</td>\n",
       "      <td>men</td>\n",
       "      <td>Cole Parmar</td>\n",
       "      <td>men</td>\n",
       "    </tr>\n",
       "    <tr>\n",
       "      <th>1624</th>\n",
       "      <td>2022-11-23</td>\n",
       "      <td>Tournament</td>\n",
       "      <td>Western Canadian Doubles Squash Championships</td>\n",
       "      <td>15-8,15-5,15-12</td>\n",
       "      <td>Mike Lee</td>\n",
       "      <td>men</td>\n",
       "      <td>Mike Neilson</td>\n",
       "      <td>men</td>\n",
       "      <td>Thomas Charlton</td>\n",
       "      <td>men</td>\n",
       "      <td>Warren Woodman</td>\n",
       "      <td>men</td>\n",
       "    </tr>\n",
       "    <tr>\n",
       "      <th>1625</th>\n",
       "      <td>2023-06-23</td>\n",
       "      <td>Tournament</td>\n",
       "      <td>Evergreen Summer Doubles Squash Tournament</td>\n",
       "      <td>15-8,10-15,10-15,15-12,15-9</td>\n",
       "      <td>Roman Razenkov</td>\n",
       "      <td>men</td>\n",
       "      <td>Andrew Lavrov</td>\n",
       "      <td>men</td>\n",
       "      <td>Robert Bulger</td>\n",
       "      <td>men</td>\n",
       "      <td>Victor Tanaka</td>\n",
       "      <td>men</td>\n",
       "    </tr>\n",
       "    <tr>\n",
       "      <th>1626</th>\n",
       "      <td>2023-03-08</td>\n",
       "      <td>Tournament</td>\n",
       "      <td>Hillside Wealth Management 2023 BC Doubles Cha...</td>\n",
       "      <td>15-9,15-14,15-8</td>\n",
       "      <td>Gary Evans</td>\n",
       "      <td>men</td>\n",
       "      <td>Jon De Souza</td>\n",
       "      <td>men</td>\n",
       "      <td>Deepak Hayer</td>\n",
       "      <td>men</td>\n",
       "      <td>Jason Daou</td>\n",
       "      <td>men</td>\n",
       "    </tr>\n",
       "  </tbody>\n",
       "</table>\n",
       "<p>1627 rows × 12 columns</p>\n",
       "</div>"
      ],
      "text/plain": [
       "      Match Date  Event Type  \\\n",
       "0     2019-03-31  Club Match   \n",
       "1     2019-03-29  Club Match   \n",
       "2     2019-03-28      League   \n",
       "3     2019-03-28      League   \n",
       "4     2019-03-28      League   \n",
       "...          ...         ...   \n",
       "1622  2023-06-22  Tournament   \n",
       "1623  2023-06-22  Tournament   \n",
       "1624  2022-11-23  Tournament   \n",
       "1625  2023-06-23  Tournament   \n",
       "1626  2023-03-08  Tournament   \n",
       "\n",
       "                                             Event Name  \\\n",
       "0                               Vancouver Racquets Club   \n",
       "1                               Vancouver Racquets Club   \n",
       "2                       Vancouver Ladies Doubles League   \n",
       "3                       Vancouver Ladies Doubles League   \n",
       "4                       Vancouver Ladies Doubles League   \n",
       "...                                                 ...   \n",
       "1622         Evergreen Summer Doubles Squash Tournament   \n",
       "1623         Evergreen Summer Doubles Squash Tournament   \n",
       "1624      Western Canadian Doubles Squash Championships   \n",
       "1625         Evergreen Summer Doubles Squash Tournament   \n",
       "1626  Hillside Wealth Management 2023 BC Doubles Cha...   \n",
       "\n",
       "                        Game Scores               Player A1 Player A1 Gender  \\\n",
       "0                           ['3-0']         Brian Covernton             male   \n",
       "1                           ['3-0']             Glen McNeil             male   \n",
       "2                           ['1-3']          Jennifer Levey           female   \n",
       "3                           ['3-1']        Annette Johanson           female   \n",
       "4                           ['3-0']           Melodie Flook           female   \n",
       "...                             ...                     ...              ...   \n",
       "1622  15-12,12-15,14-15,15-14,15-10  Guillermo Cortes-Ortiz              men   \n",
       "1623                15-9,15-7,15-10                Mike Lee              men   \n",
       "1624                15-8,15-5,15-12                Mike Lee              men   \n",
       "1625    15-8,10-15,10-15,15-12,15-9          Roman Razenkov              men   \n",
       "1626                15-9,15-14,15-8              Gary Evans              men   \n",
       "\n",
       "             Player A2 Player A2 Gender            Player B1 Player B1 Gender  \\\n",
       "0     Bruce Macfarlane             male           Adam Jinks             male   \n",
       "1              Rick Ng             male      Brian Covernton             male   \n",
       "2           Angel Wong           female            Helen Kim           female   \n",
       "3       Olivia Maxwell           female  Ashley Ramsden-Wood           female   \n",
       "4     Jillian Anderson           female         Ana Laureano           female   \n",
       "...                ...              ...                  ...              ...   \n",
       "1622    Eduardo Flores              men        Patrick Frost              men   \n",
       "1623      Mike Neilson              men         Duncan Genge              men   \n",
       "1624      Mike Neilson              men      Thomas Charlton              men   \n",
       "1625     Andrew Lavrov              men        Robert Bulger              men   \n",
       "1626      Jon De Souza              men         Deepak Hayer              men   \n",
       "\n",
       "             Player B2 Player B2 Gender  \n",
       "0          Glen McNeil             male  \n",
       "1            Jeff Ward             male  \n",
       "2      Andrea Guerrero           female  \n",
       "3         Shelley Neil           female  \n",
       "4         Soraya Kurji           female  \n",
       "...                ...              ...  \n",
       "1622  Farzin Habibpour              men  \n",
       "1623       Cole Parmar              men  \n",
       "1624    Warren Woodman              men  \n",
       "1625     Victor Tanaka              men  \n",
       "1626        Jason Daou              men  \n",
       "\n",
       "[1627 rows x 12 columns]"
      ]
     },
     "execution_count": 3,
     "metadata": {},
     "output_type": "execute_result"
    }
   ],
   "source": [
    "df = pd.read_csv(loc)\n",
    "df"
   ]
  },
  {
   "cell_type": "code",
   "execution_count": 4,
   "id": "e37343a4",
   "metadata": {
    "scrolled": true
   },
   "outputs": [
    {
     "data": {
      "text/plain": [
       "1627"
      ]
     },
     "execution_count": 4,
     "metadata": {},
     "output_type": "execute_result"
    }
   ],
   "source": [
    "total_games = df.shape[0]\n",
    "total_games"
   ]
  },
  {
   "cell_type": "code",
   "execution_count": 5,
   "id": "ef4848a0",
   "metadata": {},
   "outputs": [],
   "source": [
    "df['Player B1 Gender'] = df['Player B1 Gender'].replace({'men': 'male'})\n",
    "df['Player B1 Gender'] = df['Player B1 Gender'].replace({'women': 'female'})"
   ]
  },
  {
   "cell_type": "code",
   "execution_count": 6,
   "id": "1f17077e",
   "metadata": {
    "scrolled": true
   },
   "outputs": [
    {
     "data": {
      "text/plain": [
       "male           1136\n",
       "female          490\n",
       "unspecified       1\n",
       "Name: Player B1 Gender, dtype: int64"
      ]
     },
     "execution_count": 6,
     "metadata": {},
     "output_type": "execute_result"
    }
   ],
   "source": [
    "df['Player B1 Gender'].value_counts()"
   ]
  },
  {
   "cell_type": "code",
   "execution_count": 42,
   "id": "a0b4d9ce",
   "metadata": {},
   "outputs": [],
   "source": [
    "df['Player B2 Gender'] = df['Player B2 Gender'].replace({'men': 'MALE'})\n",
    "df['Player B2 Gender'] = df['Player B2 Gender'].replace({'women': 'FEMALE'})\n",
    "df['Player B2 Gender'] = df['Player B2 Gender'].replace({'unspecified': 'UNSPECIFIED'})"
   ]
  },
  {
   "cell_type": "code",
   "execution_count": 44,
   "id": "9486ae9d",
   "metadata": {},
   "outputs": [
    {
     "data": {
      "text/plain": [
       "MALE           1128\n",
       "FEMALE          490\n",
       "UNSPECIFIED       4\n",
       "Name: Player B2 Gender, dtype: int64"
      ]
     },
     "execution_count": 44,
     "metadata": {},
     "output_type": "execute_result"
    }
   ],
   "source": [
    "sr = df['Player B2 Gender'].value_counts()\n",
    "sr"
   ]
  },
  {
   "cell_type": "code",
   "execution_count": 45,
   "id": "9b316459",
   "metadata": {},
   "outputs": [
    {
     "data": {
      "image/png": "[encoded data removed]",
      "text/plain": [
       "<Figure size 576x432 with 1 Axes>"
      ]
     },
     "metadata": {},
     "output_type": "display_data"
    }
   ],
   "source": [
    "plt.figure(figsize=(8, 6))\n",
    "plt.rcParams.update({'font.size': 30})  # Set font size as per your preference\n",
    "sr.plot(kind='pie', autopct='%1.1f%%', colors=plt.cm.tab10.colors)\n",
    "plt.title('Sex Distribution')\n",
    "plt.ylabel('')  # Remove the y-axis label\n",
    "plt.show()\n"
   ]
  },
  {
   "cell_type": "code",
   "execution_count": 32,
   "id": "c8020e50",
   "metadata": {},
   "outputs": [
    {
     "data": {
      "text/plain": [
       "TOURNAMENT    683\n",
       "LEAGUE        547\n",
       "CLUB MATCH    392\n",
       "Name: Event Type, dtype: int64"
      ]
     },
     "execution_count": 32,
     "metadata": {},
     "output_type": "execute_result"
    }
   ],
   "source": [
    "sr = df['Event Type'].value_counts()\n",
    "sr"
   ]
  },
  {
   "cell_type": "code",
   "execution_count": 30,
   "id": "dfa257f5",
   "metadata": {},
   "outputs": [],
   "source": [
    "df['Event Type'] = df['Event Type'].replace({'Tournament': 'TOURNAMENT'})\n",
    "df['Event Type'] = df['Event Type'].replace({'League': 'LEAGUE'})\n",
    "df['Event Type'] = df['Event Type'].replace({'Club Match': 'CLUB MATCH'})"
   ]
  },
  {
   "cell_type": "code",
   "execution_count": 41,
   "id": "1a9903a1",
   "metadata": {},
   "outputs": [
    {
     "data": {
      "image/png": "[encoded data removed]",
      "text/plain": [
       "<Figure size 576x432 with 1 Axes>"
      ]
     },
     "metadata": {},
     "output_type": "display_data"
    }
   ],
   "source": [
    "plt.figure(figsize=(8, 6))\n",
    "sr.plot(kind='pie', autopct='%1.1f%%', colors=plt.cm.tab10.colors)\n",
    "plt.title('Event Type Distribution')\n",
    "plt.ylabel('')  # Remove the y-axis label\n",
    "plt.show()\n"
   ]
  },
  {
   "cell_type": "code",
   "execution_count": 13,
   "id": "1b0f7ed9",
   "metadata": {},
   "outputs": [
    {
     "data": {
      "text/plain": [
       "0       2019-03-31\n",
       "1       2019-03-29\n",
       "2       2019-03-28\n",
       "3       2019-03-28\n",
       "4       2019-03-28\n",
       "           ...    \n",
       "1622    2023-06-22\n",
       "1623    2023-06-22\n",
       "1624    2022-11-23\n",
       "1625    2023-06-23\n",
       "1626    2023-03-08\n",
       "Name: Match Date, Length: 1627, dtype: object"
      ]
     },
     "execution_count": 13,
     "metadata": {},
     "output_type": "execute_result"
    }
   ],
   "source": [
    "df['Match Date']"
   ]
  },
  {
   "cell_type": "code",
   "execution_count": 14,
   "id": "f9aaf94b",
   "metadata": {},
   "outputs": [
    {
     "name": "stdout",
     "output_type": "stream",
     "text": [
      "Date range: 2018-04-01 to 2023-11-19\n"
     ]
    }
   ],
   "source": [
    "earliest_date = df['Match Date'].min()\n",
    "latest_date = df['Match Date'].max()\n",
    "print(\"Date range:\", earliest_date, \"to\", latest_date)"
   ]
  },
  {
   "cell_type": "code",
   "execution_count": null,
   "id": "33a0931e",
   "metadata": {},
   "outputs": [],
   "source": []
  },
  {
   "cell_type": "code",
   "execution_count": null,
   "id": "19bb5a33",
   "metadata": {},
   "outputs": [],
   "source": []
  },
  {
   "cell_type": "code",
   "execution_count": 15,
   "id": "9140578f",
   "metadata": {},
   "outputs": [
    {
     "name": "stdout",
     "output_type": "stream",
     "text": [
      "      Match Date  Event Type  \\\n",
      "0     2019-03-31  Club Match   \n",
      "1     2019-03-29  Club Match   \n",
      "2     2019-03-28      League   \n",
      "3     2019-03-28      League   \n",
      "4     2019-03-28      League   \n",
      "...          ...         ...   \n",
      "1622  2023-06-22  Tournament   \n",
      "1623  2023-06-22  Tournament   \n",
      "1624  2022-11-23  Tournament   \n",
      "1625  2023-06-23  Tournament   \n",
      "1626  2023-03-08  Tournament   \n",
      "\n",
      "                                             Event Name  \\\n",
      "0                               Vancouver Racquets Club   \n",
      "1                               Vancouver Racquets Club   \n",
      "2                       Vancouver Ladies Doubles League   \n",
      "3                       Vancouver Ladies Doubles League   \n",
      "4                       Vancouver Ladies Doubles League   \n",
      "...                                                 ...   \n",
      "1622         Evergreen Summer Doubles Squash Tournament   \n",
      "1623         Evergreen Summer Doubles Squash Tournament   \n",
      "1624      Western Canadian Doubles Squash Championships   \n",
      "1625         Evergreen Summer Doubles Squash Tournament   \n",
      "1626  Hillside Wealth Management 2023 BC Doubles Cha...   \n",
      "\n",
      "                        Game Scores               Player A1 Player A1 Gender  \\\n",
      "0                           ['3-0']         Brian Covernton             male   \n",
      "1                           ['3-0']             Glen McNeil             male   \n",
      "2                           ['1-3']          Jennifer Levey           female   \n",
      "3                           ['3-1']        Annette Johanson           female   \n",
      "4                           ['3-0']           Melodie Flook           female   \n",
      "...                             ...                     ...              ...   \n",
      "1622  15-12,12-15,14-15,15-14,15-10  Guillermo Cortes-Ortiz              men   \n",
      "1623                15-9,15-7,15-10                Mike Lee              men   \n",
      "1624                15-8,15-5,15-12                Mike Lee              men   \n",
      "1625    15-8,10-15,10-15,15-12,15-9          Roman Razenkov              men   \n",
      "1626                15-9,15-14,15-8              Gary Evans              men   \n",
      "\n",
      "             Player A2 Player A2 Gender            Player B1 Player B1 Gender  \\\n",
      "0     Bruce Macfarlane             male           Adam Jinks             male   \n",
      "1              Rick Ng             male      Brian Covernton             male   \n",
      "2           Angel Wong           female            Helen Kim           female   \n",
      "3       Olivia Maxwell           female  Ashley Ramsden-Wood           female   \n",
      "4     Jillian Anderson           female         Ana Laureano           female   \n",
      "...                ...              ...                  ...              ...   \n",
      "1622    Eduardo Flores              men        Patrick Frost              men   \n",
      "1623      Mike Neilson              men         Duncan Genge              men   \n",
      "1624      Mike Neilson              men      Thomas Charlton              men   \n",
      "1625     Andrew Lavrov              men        Robert Bulger              men   \n",
      "1626      Jon De Souza              men         Deepak Hayer              men   \n",
      "\n",
      "             Player B2 Player B2 Gender  \n",
      "0          Glen McNeil             male  \n",
      "1            Jeff Ward             male  \n",
      "2      Andrea Guerrero           female  \n",
      "3         Shelley Neil           female  \n",
      "4         Soraya Kurji           female  \n",
      "...                ...              ...  \n",
      "1622  Farzin Habibpour              men  \n",
      "1623       Cole Parmar              men  \n",
      "1624    Warren Woodman              men  \n",
      "1625     Victor Tanaka              men  \n",
      "1626        Jason Daou              men  \n",
      "\n",
      "[1622 rows x 12 columns]\n"
     ]
    }
   ],
   "source": [
    "import pandas as pd\n",
    "\n",
    "df = pd.read_csv(loc)\n",
    "\n",
    "# Remove entries where the \"Game Scores\" column is NaN\n",
    "df = df.dropna(subset=[\"Game Scores\"])\n",
    "\n",
    "\n",
    "print(df)\n"
   ]
  },
  {
   "cell_type": "code",
   "execution_count": 16,
   "id": "a8c738cb",
   "metadata": {},
   "outputs": [],
   "source": [
    "import re\n",
    "\n",
    "\n",
    "def extract_first_scores(game_score):\n",
    "    # Define regular expression to match scores in the format \"n-n\"\n",
    "    score_pattern = re.compile(r\"(\\d+)-(\\d+)\")\n",
    "\n",
    "    # Find all matches of score pattern in the game score\n",
    "    matches = score_pattern.findall(game_score)\n",
    "\n",
    "    if matches:\n",
    "        # Extract score A and score B from the first match\n",
    "        score_a, score_b = map(int, matches[0])\n",
    "        return score_a, score_b\n",
    "    else:\n",
    "        print(game_score)\n",
    "        return None, None  # No valid scores found\n",
    "\n",
    "\n",
    "def extract_all_scores(game_score):\n",
    "    # Define regular expression to match scores in the format \"n-n\"\n",
    "    score_pattern = re.compile(r\"(\\d+)-(\\d+)\")\n",
    "\n",
    "    # Find all matches of score pattern in the game score\n",
    "    matches = score_pattern.findall(game_score)\n",
    "\n",
    "    if matches:\n",
    "        # Extract all scores\n",
    "        scores = [(int(score_a), int(score_b)) for score_a, score_b in matches]\n",
    "        return scores\n",
    "    else:\n",
    "        return None  # No valid scores found"
   ]
  },
  {
   "cell_type": "code",
   "execution_count": null,
   "id": "42ddf6c8",
   "metadata": {},
   "outputs": [],
   "source": []
  },
  {
   "cell_type": "code",
   "execution_count": 17,
   "id": "72664ee7",
   "metadata": {},
   "outputs": [],
   "source": [
    "def convert_to_game_score(scores):\n",
    "    # Initialize variables to count wins for each player\n",
    "    player1_wins = 0\n",
    "    player2_wins = 0\n",
    "\n",
    "    # Iterate through each tuple in the list of scores\n",
    "    for score in scores:\n",
    "        # Compare the scores to determine the winner of each game\n",
    "        if score[0] > score[1]:\n",
    "            player1_wins += 1\n",
    "        elif score[1] > score[0]:\n",
    "            player2_wins += 1\n",
    "\n",
    "    # Construct the game score string\n",
    "    game_score = f\"{player1_wins}-{player2_wins}\"\n",
    "\n",
    "    return game_score\n"
   ]
  },
  {
   "cell_type": "code",
   "execution_count": 18,
   "id": "4caf6b15",
   "metadata": {
    "scrolled": true
   },
   "outputs": [
    {
     "name": "stderr",
     "output_type": "stream",
     "text": [
      "<ipython-input-18-e7d151ea9dfd>:4: DeprecationWarning: The default dtype for empty Series will be 'object' instead of 'float64' in a future version. Specify a dtype explicitly to silence this warning.\n",
      "  empty_series = pd.Series([])\n"
     ]
    },
    {
     "data": {
      "text/plain": [
       "0    1-0\n",
       "0    1-0\n",
       "0    0-1\n",
       "0    1-0\n",
       "0    1-0\n",
       "    ... \n",
       "0    3-2\n",
       "0    3-0\n",
       "0    3-0\n",
       "0    3-2\n",
       "0    3-0\n",
       "Length: 1622, dtype: object"
      ]
     },
     "execution_count": 18,
     "metadata": {},
     "output_type": "execute_result"
    }
   ],
   "source": [
    "def generate_match_outcomes(df):\n",
    "    # Initialize list to store match outcomes\n",
    "    match_outcomes = []\n",
    "    empty_series = pd.Series([])\n",
    "\n",
    "\n",
    "    # Iterate through each row (match) in the DataFrame\n",
    "    for index, row in df.iterrows():\n",
    "        player1_wins = 0\n",
    "        player2_wins = 0\n",
    "\n",
    "        # Extract match details\n",
    "        game_score = row[\"Game Scores\"]\n",
    "        scores = extract_all_scores(str(game_score))\n",
    "        \n",
    "        for score in scores:\n",
    "#                 print(score)\n",
    "                # Compare the scores to determine the winner of each game\n",
    "                if score[0] > score[1]:\n",
    "                    player1_wins += 1\n",
    "                elif score[1] > score[0]:\n",
    "                    player2_wins += 1\n",
    "                    \n",
    "        score_fin = f\"{player1_wins}-{player2_wins}\"\n",
    "#         print('//',score_fin,scores)\n",
    "        empty_series = empty_series.append(pd.Series(score_fin))\n",
    "\n",
    "    return empty_series\n",
    "\n",
    "# #         print(scores)\n",
    "#         if len(scores)>1:\n",
    "# #             print(scores)\n",
    "#             for score in scores:\n",
    "#                 print(score)\n",
    "#                 # Compare the scores to determine the winner of each game\n",
    "#                 if score[0] > score[1]:\n",
    "#                     player1_wins += 1\n",
    "#                 elif score[1] > score[0]:\n",
    "#                     player2_wins += 1\n",
    "#         print('//',f\"{player1_wins}-{player2_wins}\",scores)\n",
    "\n",
    "        # Initialize counters for wins of each player\n",
    "#         wins_player_a = 0\n",
    "#         wins_player_b = 0\n",
    "\n",
    "        # Count wins for each player\n",
    "#         if scores:\n",
    "#             for score_a, score_b in scores:\n",
    "#                 if score_a > score_b:\n",
    "#                     wins_player_a += 1\n",
    "#                 elif score_a < score_b:\n",
    "#                     wins_player_b += 1\n",
    "#         print('//',f\"{player1_wins}-{player2_wins}\",scores)\n",
    "\n",
    "#         # Determine the match outcome based on wins\n",
    "#         if wins_player_a > wins_player_b:\n",
    "#             match_outcomes.append(1)  # Player A wins\n",
    "#         elif wins_player_a < wins_player_b:\n",
    "#             match_outcomes.append(0)  # Player B wins\n",
    "#         else:\n",
    "#             match_outcomes.append(None)  # Draw\n",
    "\n",
    "#     # Add match outcomes as a new column to the DataFrame\n",
    "#     df[\"Match Outcome\"] = match_outcomes\n",
    "\n",
    "#     return df\n",
    "\n",
    "\n",
    "# Example usage:\n",
    "# Assuming 'data' is your DataFrame containing the dataset\n",
    "data_with_match_outcomes = generate_match_outcomes(df)\n",
    "data_with_match_outcomes"
   ]
  },
  {
   "cell_type": "code",
   "execution_count": 19,
   "id": "91dfa248",
   "metadata": {},
   "outputs": [
    {
     "ename": "NameError",
     "evalue": "name 'score_fin' is not defined",
     "output_type": "error",
     "traceback": [
      "\u001b[1;31m---------------------------------------------------------------------------\u001b[0m",
      "\u001b[1;31mNameError\u001b[0m                                 Traceback (most recent call last)",
      "\u001b[1;32m<ipython-input-19-b7060f4dc9ea>\u001b[0m in \u001b[0;36m<module>\u001b[1;34m\u001b[0m\n\u001b[1;32m----> 1\u001b[1;33m \u001b[0mscore_fin\u001b[0m\u001b[1;33m\u001b[0m\u001b[1;33m\u001b[0m\u001b[0m\n\u001b[0m",
      "\u001b[1;31mNameError\u001b[0m: name 'score_fin' is not defined"
     ]
    }
   ],
   "source": [
    "score_fin"
   ]
  },
  {
   "cell_type": "code",
   "execution_count": null,
   "id": "d335ba3d",
   "metadata": {},
   "outputs": [],
   "source": [
    "scores"
   ]
  },
  {
   "cell_type": "code",
   "execution_count": null,
   "id": "4a87fd81",
   "metadata": {},
   "outputs": [],
   "source": [
    "data_with_match_outcomes['']"
   ]
  },
  {
   "cell_type": "code",
   "execution_count": null,
   "id": "4da8c2ce",
   "metadata": {},
   "outputs": [],
   "source": [
    "data_with_match_outcomes['Game Scores']"
   ]
  },
  {
   "cell_type": "code",
   "execution_count": null,
   "id": "7069b9e6",
   "metadata": {},
   "outputs": [],
   "source": [
    "for value in data_with_match_outcomes['Game Scores']:\n",
    "    print(type(value),value)\n",
    "    if not value.startswith('['):\n",
    "        print('//',value)\n",
    "    else:\n",
    "        converted_list = ast.literal_eval(value)\n",
    "\n",
    "#     if(len(converted_list)>1):\n",
    "#         print('//',converted_list)"
   ]
  },
  {
   "cell_type": "code",
   "execution_count": null,
   "id": "1c5989b3",
   "metadata": {},
   "outputs": [],
   "source": [
    "for index, row in df.iterrows():\n",
    "        # Extract match details\n",
    "        game_score = row[\"Game Scores\"]\n",
    "        scores = extract_all_scores(str(game_score))\n",
    "        for score in scores:\n",
    "            score_a = score[0]\n",
    "            score_b = score[1]\n",
    "\n",
    "            # Extract player names\n",
    "            player_a1 = row[\"Player A1\"]\n",
    "            player_a2 = row[\"Player A2\"]\n",
    "            player_b1 = row[\"Player B1\"]\n",
    "            player_b2 = row[\"Player B2\"]\n",
    "            print(score_a,score_b,player_a1,player_a2,player_b1,player_b2)"
   ]
  }
 ],
 "metadata": {
  "kernelspec": {
   "display_name": "Python 3",
   "language": "python",
   "name": "python3"
  },
  "language_info": {
   "codemirror_mode": {
    "name": "ipython",
    "version": 3
   },
   "file_extension": ".py",
   "mimetype": "text/x-python",
   "name": "python",
   "nbconvert_exporter": "python",
   "pygments_lexer": "ipython3",
   "version": "3.8.8"
  }
 },
 "nbformat": 4,
 "nbformat_minor": 5
}
