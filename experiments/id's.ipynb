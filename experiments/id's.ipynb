{
 "cells": [
  {
   "cell_type": "code",
   "execution_count": 6,
   "id": "1cf1f079-6e53-466d-8491-e7fb3aa7753a",
   "metadata": {},
   "outputs": [],
   "source": [
    "loc = r'C:\\Users\\ASUS\\Desktop\\Naveen\\SFU\\Sem_2\\733\\Project\\scoreboard_links.xls'"
   ]
  },
  {
   "cell_type": "code",
   "execution_count": 7,
   "id": "c5402389-800b-443c-96e0-5aa5898ac96c",
   "metadata": {},
   "outputs": [
    {
     "data": {
      "text/html": [
       "<div>\n",
       "<style scoped>\n",
       "    .dataframe tbody tr th:only-of-type {\n",
       "        vertical-align: middle;\n",
       "    }\n",
       "\n",
       "    .dataframe tbody tr th {\n",
       "        vertical-align: top;\n",
       "    }\n",
       "\n",
       "    .dataframe thead th {\n",
       "        text-align: right;\n",
       "    }\n",
       "</style>\n",
       "<table border=\"1\" class=\"dataframe\">\n",
       "  <thead>\n",
       "    <tr style=\"text-align: right;\">\n",
       "      <th></th>\n",
       "      <th>match_links</th>\n",
       "      <th>match_date</th>\n",
       "    </tr>\n",
       "  </thead>\n",
       "  <tbody>\n",
       "    <tr>\n",
       "      <th>0</th>\n",
       "      <td>https://clublocker.com/leagues/match/184188</td>\n",
       "      <td>Thu, Jul 20, 23</td>\n",
       "    </tr>\n",
       "    <tr>\n",
       "      <th>1</th>\n",
       "      <td>https://clublocker.com/leagues/match/184187</td>\n",
       "      <td>Thu, Jul 20, 23</td>\n",
       "    </tr>\n",
       "    <tr>\n",
       "      <th>2</th>\n",
       "      <td>https://clublocker.com/leagues/match/184160</td>\n",
       "      <td>Thu, Jul 13, 23</td>\n",
       "    </tr>\n",
       "    <tr>\n",
       "      <th>3</th>\n",
       "      <td>https://clublocker.com/leagues/match/184124</td>\n",
       "      <td>Thu, Jul 6, 23</td>\n",
       "    </tr>\n",
       "    <tr>\n",
       "      <th>4</th>\n",
       "      <td>https://clublocker.com/leagues/match/184122</td>\n",
       "      <td>Thu, Jun 29, 23</td>\n",
       "    </tr>\n",
       "    <tr>\n",
       "      <th>...</th>\n",
       "      <td>...</td>\n",
       "      <td>...</td>\n",
       "    </tr>\n",
       "    <tr>\n",
       "      <th>145</th>\n",
       "      <td>https://clublocker.com/leagues/match/156470</td>\n",
       "      <td>Wed, Nov 10, 21</td>\n",
       "    </tr>\n",
       "    <tr>\n",
       "      <th>146</th>\n",
       "      <td>https://clublocker.com/leagues/match/156471</td>\n",
       "      <td>Wed, Nov 10, 21</td>\n",
       "    </tr>\n",
       "    <tr>\n",
       "      <th>147</th>\n",
       "      <td>https://clublocker.com/leagues/match/156472</td>\n",
       "      <td>Wed, Nov 10, 21</td>\n",
       "    </tr>\n",
       "    <tr>\n",
       "      <th>148</th>\n",
       "      <td>https://clublocker.com/leagues/match/156464</td>\n",
       "      <td>Wed, Oct 27, 21</td>\n",
       "    </tr>\n",
       "    <tr>\n",
       "      <th>149</th>\n",
       "      <td>https://clublocker.com/leagues/match/156463</td>\n",
       "      <td>Wed, Oct 27, 21</td>\n",
       "    </tr>\n",
       "  </tbody>\n",
       "</table>\n",
       "<p>150 rows × 2 columns</p>\n",
       "</div>"
      ],
      "text/plain": [
       "                                     match_links       match_date\n",
       "0    https://clublocker.com/leagues/match/184188  Thu, Jul 20, 23\n",
       "1    https://clublocker.com/leagues/match/184187  Thu, Jul 20, 23\n",
       "2    https://clublocker.com/leagues/match/184160  Thu, Jul 13, 23\n",
       "3    https://clublocker.com/leagues/match/184124   Thu, Jul 6, 23\n",
       "4    https://clublocker.com/leagues/match/184122  Thu, Jun 29, 23\n",
       "..                                           ...              ...\n",
       "145  https://clublocker.com/leagues/match/156470  Wed, Nov 10, 21\n",
       "146  https://clublocker.com/leagues/match/156471  Wed, Nov 10, 21\n",
       "147  https://clublocker.com/leagues/match/156472  Wed, Nov 10, 21\n",
       "148  https://clublocker.com/leagues/match/156464  Wed, Oct 27, 21\n",
       "149  https://clublocker.com/leagues/match/156463  Wed, Oct 27, 21\n",
       "\n",
       "[150 rows x 2 columns]"
      ]
     },
     "execution_count": 7,
     "metadata": {},
     "output_type": "execute_result"
    }
   ],
   "source": [
    "import pandas as pd\n",
    "\n",
    "# Read CSV file into DataFrame\n",
    "df = pd.read_csv(loc)\n",
    "\n",
    "# Display the DataFrame\n",
    "df"
   ]
  },
  {
   "cell_type": "code",
   "execution_count": 10,
   "id": "da1fd75b",
   "metadata": {},
   "outputs": [],
   "source": [
    "df['match_id'] = df['match_links'].str.split('/').str[-1]\n",
    "\n",
    "# Display DataFrame with match IDs\n",
    "df\n",
    "df.to_csv('scoreboard_ids.csv',index=False)"
   ]
  }
 ],
 "metadata": {
  "kernelspec": {
   "display_name": "Python 3",
   "language": "python",
   "name": "python3"
  },
  "language_info": {
   "codemirror_mode": {
    "name": "ipython",
    "version": 3
   },
   "file_extension": ".py",
   "mimetype": "text/x-python",
   "name": "python",
   "nbconvert_exporter": "python",
   "pygments_lexer": "ipython3",
   "version": "3.8.8"
  }
 },
 "nbformat": 4,
 "nbformat_minor": 5
}
