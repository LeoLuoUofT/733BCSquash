{
 "cells": [
  {
   "cell_type": "code",
   "execution_count": 1,
   "id": "51937569",
   "metadata": {},
   "outputs": [],
   "source": [
    "from selenium import webdriver\n",
    "# import org.openqa.selenium.WebElement;\n",
    "from selenium.webdriver.common.by import By\n",
    "from selenium.webdriver.support.ui import WebDriverWait\n",
    "from selenium.webdriver.support import expected_conditions as EC\n",
    "\n",
    "url = \"https://squashbc.clublocker.com/login?&tokenInvalid=1\" \n",
    "leagues = 'https://clublocker.com/leagues/1615/home'\n"
   ]
  },
  {
   "cell_type": "code",
   "execution_count": 2,
   "id": "94109943-f174-4a46-bb38-d96ed5a0e0e9",
   "metadata": {},
   "outputs": [],
   "source": [
    "def scrape(links):\n",
    "    driver.get('https://clublocker.com/leagues/1615/home')\n",
    "    wait = WebDriverWait(driver, 90)  # Increase the wait time if necessary\n",
    "    \n",
    "    # Use WebDriverWait to wait for the element to be clickable\n",
    "    login_button = wait.until(EC.element_to_be_clickable((By.CSS_SELECTOR, \".btn.btn-primary.login-btn\")))\n",
    "    login_button.click()\n",
    "\n",
    "    # Wait for the element to be present and visible\n",
    "    element = wait.until(EC.visibility_of_element_located((By.XPATH, '//*[@id=\"mat-tab-label-0-2\"]/div')))\n",
    "    \n",
    "    # Perform the action after the element is present and visible\n",
    "    element.click()\n"
   ]
  },
  {
   "cell_type": "code",
   "execution_count": 3,
   "id": "4d9c93ed-f815-494e-80fb-220f575f6e1e",
   "metadata": {},
   "outputs": [
    {
     "ename": "TimeoutException",
     "evalue": "Message: \nStacktrace:\n\tGetHandleVerifier [0x00007FF6FCB9AD32+56930]\n\t(No symbol) [0x00007FF6FCB0F632]\n\t(No symbol) [0x00007FF6FC9C42E5]\n\t(No symbol) [0x00007FF6FCA098ED]\n\t(No symbol) [0x00007FF6FCA09A2C]\n\t(No symbol) [0x00007FF6FCA4A967]\n\t(No symbol) [0x00007FF6FCA2BCDF]\n\t(No symbol) [0x00007FF6FCA481E2]\n\t(No symbol) [0x00007FF6FCA2BA43]\n\t(No symbol) [0x00007FF6FC9FD438]\n\t(No symbol) [0x00007FF6FC9FE4D1]\n\tGetHandleVerifier [0x00007FF6FCF16ABD+3709933]\n\tGetHandleVerifier [0x00007FF6FCF6FFFD+4075821]\n\tGetHandleVerifier [0x00007FF6FCF6818F+4043455]\n\tGetHandleVerifier [0x00007FF6FCC39766+706710]\n\t(No symbol) [0x00007FF6FCB1B90F]\n\t(No symbol) [0x00007FF6FCB16AF4]\n\t(No symbol) [0x00007FF6FCB16C4C]\n\t(No symbol) [0x00007FF6FCB06904]\n\tBaseThreadInitThunk [0x00007FFDA9977C24+20]\n\tRtlUserThreadStart [0x00007FFDA9ACD721+33]\n",
     "output_type": "error",
     "traceback": [
      "\u001b[1;31m---------------------------------------------------------------------------\u001b[0m",
      "\u001b[1;31mTimeoutException\u001b[0m                          Traceback (most recent call last)",
      "Cell \u001b[1;32mIn[3], line 16\u001b[0m\n\u001b[0;32m     13\u001b[0m login_button \u001b[38;5;241m=\u001b[39m wait\u001b[38;5;241m.\u001b[39muntil(EC\u001b[38;5;241m.\u001b[39melement_to_be_clickable((By\u001b[38;5;241m.\u001b[39mCSS_SELECTOR, \u001b[38;5;124m\"\u001b[39m\u001b[38;5;124m.btn.btn-primary.login-btn\u001b[39m\u001b[38;5;124m\"\u001b[39m)))\n\u001b[0;32m     14\u001b[0m login_button\u001b[38;5;241m.\u001b[39mclick()\n\u001b[1;32m---> 16\u001b[0m scrape(leagues)\n",
      "Cell \u001b[1;32mIn[2], line 6\u001b[0m, in \u001b[0;36mscrape\u001b[1;34m(links)\u001b[0m\n\u001b[0;32m      3\u001b[0m wait \u001b[38;5;241m=\u001b[39m WebDriverWait(driver, \u001b[38;5;241m90\u001b[39m)  \u001b[38;5;66;03m# Increase the wait time if necessary\u001b[39;00m\n\u001b[0;32m      5\u001b[0m \u001b[38;5;66;03m# Use WebDriverWait to wait for the element to be clickable\u001b[39;00m\n\u001b[1;32m----> 6\u001b[0m login_button \u001b[38;5;241m=\u001b[39m wait\u001b[38;5;241m.\u001b[39muntil(EC\u001b[38;5;241m.\u001b[39melement_to_be_clickable((By\u001b[38;5;241m.\u001b[39mCSS_SELECTOR, \u001b[38;5;124m\"\u001b[39m\u001b[38;5;124m.btn.btn-primary.login-btn\u001b[39m\u001b[38;5;124m\"\u001b[39m)))\n\u001b[0;32m      7\u001b[0m login_button\u001b[38;5;241m.\u001b[39mclick()\n\u001b[0;32m      9\u001b[0m \u001b[38;5;66;03m# Wait for the element to be present and visible\u001b[39;00m\n",
      "File \u001b[1;32m~\\.conda\\envs\\squash\\Lib\\site-packages\\selenium\\webdriver\\support\\wait.py:105\u001b[0m, in \u001b[0;36mWebDriverWait.until\u001b[1;34m(self, method, message)\u001b[0m\n\u001b[0;32m    103\u001b[0m     \u001b[38;5;28;01mif\u001b[39;00m time\u001b[38;5;241m.\u001b[39mmonotonic() \u001b[38;5;241m>\u001b[39m end_time:\n\u001b[0;32m    104\u001b[0m         \u001b[38;5;28;01mbreak\u001b[39;00m\n\u001b[1;32m--> 105\u001b[0m \u001b[38;5;28;01mraise\u001b[39;00m TimeoutException(message, screen, stacktrace)\n",
      "\u001b[1;31mTimeoutException\u001b[0m: Message: \nStacktrace:\n\tGetHandleVerifier [0x00007FF6FCB9AD32+56930]\n\t(No symbol) [0x00007FF6FCB0F632]\n\t(No symbol) [0x00007FF6FC9C42E5]\n\t(No symbol) [0x00007FF6FCA098ED]\n\t(No symbol) [0x00007FF6FCA09A2C]\n\t(No symbol) [0x00007FF6FCA4A967]\n\t(No symbol) [0x00007FF6FCA2BCDF]\n\t(No symbol) [0x00007FF6FCA481E2]\n\t(No symbol) [0x00007FF6FCA2BA43]\n\t(No symbol) [0x00007FF6FC9FD438]\n\t(No symbol) [0x00007FF6FC9FE4D1]\n\tGetHandleVerifier [0x00007FF6FCF16ABD+3709933]\n\tGetHandleVerifier [0x00007FF6FCF6FFFD+4075821]\n\tGetHandleVerifier [0x00007FF6FCF6818F+4043455]\n\tGetHandleVerifier [0x00007FF6FCC39766+706710]\n\t(No symbol) [0x00007FF6FCB1B90F]\n\t(No symbol) [0x00007FF6FCB16AF4]\n\t(No symbol) [0x00007FF6FCB16C4C]\n\t(No symbol) [0x00007FF6FCB06904]\n\tBaseThreadInitThunk [0x00007FFDA9977C24+20]\n\tRtlUserThreadStart [0x00007FFDA9ACD721+33]\n"
     ]
    }
   ],
   "source": [
    "driver = webdriver.Chrome()\n",
    "driver.get(url)\n",
    "driver.maximize_window() # For maximizing window\n",
    "\n",
    "element=driver.find_element(By.ID,\"login\")\n",
    "element.send_keys(\"CMPT733\")\n",
    "\n",
    "element=driver.find_element(By.ID,\"loginpass\")\n",
    "element.send_keys(\"2024Semester2\")\n",
    "\n",
    "\n",
    "wait = WebDriverWait(driver, 3)\n",
    "login_button = wait.until(EC.element_to_be_clickable((By.CSS_SELECTOR, \".btn.btn-primary.login-btn\")))\n",
    "login_button.click()\n",
    "\n",
    "scrape(leagues)\n",
    "\n",
    "# driver.get(\"https://clublocker.com/organizations/10349/leagues?OrganizationId=10349&OrganizationDescr=Squash%20BC&Admin=false&TypeId=7&main=leagues&Status=0&ChildOrganizationId=all\");\n",
    "# driver.find_elements_by_xpath(\"//*[contains(text(), 'Doubles')]\")\n",
    "# login_button = WebDriverWait(driver, 45).until(EC.element_to_be_clickable((By.CSS_SELECTOR, \"mat-focus-indicator mat-button mat-button-base ng-star-inserted\")))\n",
    "# login_button.click()\n",
    "\n",
    "\n",
    "# driver.close()"
   ]
  },
  {
   "cell_type": "code",
   "execution_count": null,
   "id": "18d5a370-3a72-402c-afdb-702d3afc0534",
   "metadata": {},
   "outputs": [],
   "source": []
  },
  {
   "cell_type": "code",
   "execution_count": null,
   "id": "85b720b6-0108-4d75-a84b-3db50d75a156",
   "metadata": {},
   "outputs": [],
   "source": []
  },
  {
   "cell_type": "code",
   "execution_count": null,
   "id": "d1aa7c28-9f2d-4e15-a2c5-bb385dccacbe",
   "metadata": {},
   "outputs": [],
   "source": []
  },
  {
   "cell_type": "code",
   "execution_count": null,
   "id": "5fb66218",
   "metadata": {},
   "outputs": [],
   "source": [
    "# with requests.Session() as s:\n",
    "#     r = s.get(url)\n",
    "#     print(r.content)"
   ]
  },
  {
   "cell_type": "code",
   "execution_count": null,
   "id": "2a5f8594",
   "metadata": {},
   "outputs": [],
   "source": []
  }
 ],
 "metadata": {
  "kernelspec": {
   "display_name": "Python 3 (ipykernel)",
   "language": "python",
   "name": "python3"
  },
  "language_info": {
   "codemirror_mode": {
    "name": "ipython",
    "version": 3
   },
   "file_extension": ".py",
   "mimetype": "text/x-python",
   "name": "python",
   "nbconvert_exporter": "python",
   "pygments_lexer": "ipython3",
   "version": "3.11.8"
  }
 },
 "nbformat": 4,
 "nbformat_minor": 5
}
