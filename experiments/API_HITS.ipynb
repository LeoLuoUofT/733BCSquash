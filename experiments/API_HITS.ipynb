{
  "nbformat": 4,
  "nbformat_minor": 0,
  "metadata": {
    "colab": {
      "provenance": []
    },
    "kernelspec": {
      "name": "python3",
      "display_name": "Python 3"
    },
    "language_info": {
      "name": "python"
    }
  },
  "cells": [
    {
      "cell_type": "markdown",
      "source": [
        "**API HITS FOR SQUASH BC MEN SINGLES :**\n",
        "\n",
        "API for Squash BC Men Singles for the Category MEN 19+ : https://api.ussquash.com/resources/res/public/organizations/10349/rankings?RowsPerPage=10000&PageNumber=1&DivisionId=2\n",
        "\n",
        "API for Squash BC Men Singles for the Category MEN 25+ : https://api.ussquash.com/resources/res/public/organizations/10349/rankings?RowsPerPage=10000&PageNumber=1&DivisionId=18\n",
        "\n",
        "API for Squash BC Men Singles for the Category MEN 30+ : https://api.ussquash.com/resources/res/public/organizations/10349/rankings?RowsPerPage=50&PageNumber=1&DivisionId=21\n",
        "\n",
        "API for Squash BC Men Singles for the Category MEN 35+ : https://api.ussquash.com/resources/res/public/organizations/10349/rankings?RowsPerPage=50&PageNumber=1&DivisionId=22\n",
        "\n",
        "API for Squash BC Men Singles for the Category MEN 40+ : https://api.ussquash.com/resources/res/public/organizations/10349/rankings?RowsPerPage=50&PageNumber=1&DivisionId=25\n",
        "\n",
        "API for Squash BC Men Singles for the Category MEN 45+ :https://api.ussquash.com/resources/res/public/organizations/10349/rankings?RowsPerPage=50&PageNumber=1&DivisionId=26\n",
        "\n",
        "API for Squash BC Men Singles for the Category MEN 50+ : https://api.ussquash.com/resources/res/public/organizations/10349/rankings?RowsPerPage=50&PageNumber=1&DivisionId=29\n",
        "\n",
        "API for Squash BC Men Singles for the Category MEN 55+ : https://api.ussquash.com/resources/res/public/organizations/10349/rankings?RowsPerPage=50&PageNumber=1&DivisionId=30\n",
        "\n",
        "API for Squash BC Men Singles for the Category MEN 60+ : https://api.ussquash.com/resources/res/public/organizations/10349/rankings?RowsPerPage=50&PageNumber=1&DivisionId=33\n",
        "\n",
        "API for Squash BC Men Singles for the Category MEN 65+ : https://api.ussquash.com/resources/res/public/organizations/10349/rankings?RowsPerPage=50&PageNumber=1&DivisionId=34\n",
        "\n",
        "API for Squash BC Men Singles for the Category MEN 70+ : https://api.ussquash.com/resources/res/public/organizations/10349/rankings?RowsPerPage=50&PageNumber=1&DivisionId=35\n",
        "\n",
        "API for Squash BC Men Singles for the Category MEN 75+ : https://api.ussquash.com/resources/res/public/organizations/10349/rankings?RowsPerPage=50&PageNumber=1&DivisionId=36\n",
        "\n",
        "API for Squash BC Men Singles for the Category MEN 80+ : https://api.ussquash.com/resources/res/public/organizations/10349/rankings?RowsPerPage=50&PageNumber=1&DivisionId=37\n",
        "\n",
        "API for Squash BC Men Singles for the Category MEN 85+ : https://api.ussquash.com/resources/res/public/organizations/10349/rankings?RowsPerPage=50&PageNumber=1&DivisionId=181\n",
        "\n"
      ],
      "metadata": {
        "id": "E8ash6g3cfO1"
      }
    },
    {
      "cell_type": "markdown",
      "source": [
        "**API HITS FOR SQUASH BC WOMEN SINGLES :**\n",
        "\n",
        "API for Squash BC Women Singles for the Category WOMEN 19+ : https://api.ussquash.com/resources/res/public/organizations/10349/rankings?RowsPerPage=50&PageNumber=1&DivisionId=329\n",
        "\n",
        "API for Squash BC Men Singles for the Category WOMEN 25+ : https://api.ussquash.com/resources/res/public/organizations/10349/rankings?RowsPerPage=50&PageNumber=1&DivisionId=42\n",
        "\n",
        "API for Squash BC Men Singles for the Category WOMEN 30+ :https://api.ussquash.com/resources/res/public/organizations/10349/rankings?RowsPerPage=50&PageNumber=1&DivisionId=45\n",
        "\n",
        "API for Squash BC Men Singles for the Category WOMEN 35+ : https://api.ussquash.com/resources/res/public/organizations/10349/rankings?RowsPerPage=50&PageNumber=1&DivisionId=46\n",
        "\n",
        "API for Squash BC Men Singles for the Category WOMEN 40+ : https://api.ussquash.com/resources/res/public/organizations/10349/rankings?RowsPerPage=50&PageNumber=1&DivisionId=49\n",
        "\n",
        "API for Squash BC Men Singles for the Category WOMEN 45+ : https://api.ussquash.com/resources/res/public/organizations/10349/rankings?RowsPerPage=50&PageNumber=1&DivisionId=50\n",
        "\n",
        "API for Squash BC Men Singles for the Category WOMEN 50+ : https://api.ussquash.com/resources/res/public/organizations/10349/rankings?RowsPerPage=50&PageNumber=1&DivisionId=53\n",
        "\n",
        "API for Squash BC Men Singles for the Category WOMEN 55+ : https://api.ussquash.com/resources/res/public/organizations/10349/rankings?RowsPerPage=50&PageNumber=1&DivisionId=178\n",
        "\n",
        "API for Squash BC Men Singles for the Category WOMEN 60+ : https://api.ussquash.com/resources/res/public/organizations/10349/rankings?RowsPerPage=50&PageNumber=1&DivisionId=179\n",
        "\n",
        "API for Squash BC Men Singles for the Category WOMEN 65+ : es/res/public/organizations/10349/rankings?RowsPerPage=50&PageNumber=1&DivisionId=180\n",
        "\n",
        "API for Squash BC Men Singles for the Category WOMEN 70+ : https://api.ussquash.com/resources/res/public/organizations/10349/rankings?RowsPerPage=50&PageNumber=1&DivisionId=330\n",
        "\n",
        "API for Squash BC Men Singles for the Category WOMEN 75+ : https://api.ussquash.com/resources/res/public/organizations/10349/rankings?RowsPerPage=50&PageNumber=1&DivisionId=331\n",
        "\n",
        "API for Squash BC Men Singles for the Category WOMEN 80+ : https://api.ussquash.com/resources/res/public/organizations/10349/rankings?RowsPerPage=50&PageNumber=1&DivisionId=332\n",
        "\n",
        "API for Squash BC Men Singles for the Category WOMEN 85+ : https://api.ussquash.com/resources/res/public/organizations/10349/rankings?RowsPerPage=50&PageNumber=1&DivisionId=333\n",
        "\n"
      ],
      "metadata": {
        "id": "iuZzjLcOc4vb"
      }
    },
    {
      "cell_type": "markdown",
      "source": [
        "**API HITS FOR SQUASH BC MEN DOUBLES :**\n",
        "\n",
        "API for Squash BC Men Doubles for the Category MEN 25+ : https://api.ussquash.com/resources/res/public/organizations/10349/rankings?RowsPerPage=50&PageNumber=1&DivisionId=115\n",
        "\n",
        "API for Squash BC Men Doubles for the Category MEN 30+ : https://api.ussquash.com/resources/res/public/organizations/10349/rankings?RowsPerPage=50&PageNumber=1&DivisionId=118\n",
        "\n",
        "API for Squash BC Men Doubles for the Category MEN 35+ : https://api.ussquash.com/resources/res/public/organizations/10349/rankings?RowsPerPage=50&PageNumber=1&DivisionId=119\n",
        "\n",
        "API for Squash BC Men Doubles for the Category MEN 40+ : https://api.ussquash.com/resources/res/public/organizations/10349/rankings?RowsPerPage=50&PageNumber=1&DivisionId=122\n",
        "\n",
        "API for Squash BC Men Doubles for the Category MEN 45+ : https://api.ussquash.com/resources/res/public/organizations/10349/rankings?RowsPerPage=50&PageNumber=1&DivisionId=123\n",
        "\n",
        "API for Squash BC Men Doubles for the Category MEN 50+ : https://api.ussquash.com/resources/res/public/organizations/10349/rankings?RowsPerPage=50&PageNumber=1&DivisionId=126\n",
        "\n",
        "API for Squash BC Men Doubles for the Category MEN 55+ : https://api.ussquash.com/resources/res/public/organizations/10349/rankings?RowsPerPage=50&PageNumber=1&DivisionId=127\n",
        "\n",
        "API for Squash BC Men Doubles for the Category MEN 60+ : https://api.ussquash.com/resources/res/public/organizations/10349/rankings?RowsPerPage=50&PageNumber=1&DivisionId=130\n",
        "\n",
        "API for Squash BC Men Doubles for the Category MEN 65+ : https://api.ussquash.com/resources/res/public/organizations/10349/rankings?RowsPerPage=50&PageNumber=1&DivisionId=131\n",
        "\n",
        "API for Squash BC Men Doubles for the Category MEN 70+ : https://api.ussquash.com/resources/res/public/organizations/10349/rankings?RowsPerPage=50&PageNumber=1&DivisionId=132\n",
        "\n",
        "API for Squash BC Men Doubles for the Category MEN 75+ : https://api.ussquash.com/resources/res/public/organizations/10349/rankings?RowsPerPage=50&PageNumber=1&DivisionId=133\n",
        "\n",
        "API for Squash BC Men Doubles for the Category MEN 80+ : https://api.ussquash.com/resources/res/public/organizations/10349/rankings?RowsPerPage=50&PageNumber=1&DivisionId=134\n",
        "\n",
        "API for Squash BC Men Doubles for the Category MEN 85+ : https://api.ussquash.com/resources/res/public/organizations/10349/rankings?RowsPerPage=50&PageNumber=1&DivisionId=363\n",
        "\n"
      ],
      "metadata": {
        "id": "BsylxSTWc_Rz"
      }
    },
    {
      "cell_type": "markdown",
      "source": [
        "**API HITS FOR SQUASH BC WOMEN DOUBLES :**\n",
        "\n",
        "API for Squash BC Women Doubles for the Category WOMEN 25+ : https://api.ussquash.com/resources/res/public/organizations/10349/rankings?RowsPerPage=50&PageNumber=1&DivisionId=139\n",
        "\n",
        "API for Squash BC Women Doubles for the Category WOMEN 30+ : https://api.ussquash.com/resources/res/public/organizations/10349/rankings?RowsPerPage=50&PageNumber=1&DivisionId=142\n",
        "\n",
        "API for Squash BC Women Doubles for the Category WOMEN 35+ : https://api.ussquash.com/resources/res/public/organizations/10349/rankings?RowsPerPage=50&PageNumber=1&DivisionId=143\n",
        "\n",
        "API for Squash BC Women Doubles for the Category WOMEN 40+ : https://api.ussquash.com/resources/res/public/organizations/10349/rankings?RowsPerPage=50&PageNumber=1&DivisionId=146\n",
        "\n",
        "API for Squash BC Women Doubles for the Category WOMEN 45+ : https://api.ussquash.com/resources/res/public/organizations/10349/rankings?RowsPerPage=50&PageNumber=1&DivisionId=147\n",
        "\n",
        "API for Squash BC Women Doubles for the Category WOMEN 50+ :  https://api.ussquash.com/resources/res/public/organizations/10349/rankings?RowsPerPage=50&PageNumber=1&DivisionId=150\n",
        "\n",
        "API for Squash BC Women Doubles for the Category WOMEN 55+ : https://api.ussquash.com/resources/res/public/organizations/10349/rankings?RowsPerPage=50&PageNumber=1&DivisionId=155\n",
        "\n",
        "API for Squash BC Women Doubles for the Category WOMEN 60+ : https://api.ussquash.com/resources/res/public/organizations/10349/rankings?RowsPerPage=50&PageNumber=1&DivisionId=283\n",
        "\n",
        "API for Squash BC Women Doubles for the Category WOMEN 65+ : https://api.ussquash.com/resources/res/public/organizations/10349/rankings?RowsPerPage=50&PageNumber=1&DivisionId=358\n",
        "\n",
        "API for Squash BC Women Doubles for the Category WOMEN 70+ : https://api.ussquash.com/resources/res/public/organizations/10349/rankings?RowsPerPage=50&PageNumber=1&DivisionId=359\n",
        "\n",
        "API for Squash BC Women Doubles for the Category WOMEN 75+ : https://api.ussquash.com/resources/res/public/organizations/10349/rankings?RowsPerPage=50&PageNumber=1&DivisionId=360\n"
      ],
      "metadata": {
        "id": "1H0xXizddWCc"
      }
    }
  ]
}